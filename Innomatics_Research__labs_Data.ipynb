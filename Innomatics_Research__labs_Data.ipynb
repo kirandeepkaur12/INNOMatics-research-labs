{
  "nbformat": 4,
  "nbformat_minor": 5,
  "metadata": {
    "kernelspec": {
      "display_name": "Python 3",
      "language": "python",
      "name": "python3"
    },
    "language_info": {
      "codemirror_mode": {
        "name": "ipython",
        "version": 3
      },
      "file_extension": ".py",
      "mimetype": "text/x-python",
      "name": "python",
      "nbconvert_exporter": "python",
      "pygments_lexer": "ipython3",
      "version": "3.8.8"
    },
    "colab": {
      "name": "Innomatics_Research _labs_Data.ipynb",
      "provenance": [],
      "collapsed_sections": []
    }
  },
  "cells": [
    {
      "cell_type": "markdown",
      "metadata": {
        "id": "PRJPd_Nqmyi7"
      },
      "source": [
        "Task: INNOMATICS RESEARCH **LAB** "
      ],
      "id": "PRJPd_Nqmyi7"
    },
    {
      "cell_type": "code",
      "metadata": {
        "id": "5f5632e8"
      },
      "source": [
        "import pandas as pd"
      ],
      "id": "5f5632e8",
      "execution_count": null,
      "outputs": []
    },
    {
      "cell_type": "code",
      "metadata": {
        "id": "9e57a2b1"
      },
      "source": [
        "df=pd.read_csv('data.csv')"
      ],
      "id": "9e57a2b1",
      "execution_count": null,
      "outputs": []
    },
    {
      "cell_type": "code",
      "metadata": {
        "colab": {
          "base_uri": "https://localhost:8080/",
          "height": 419
        },
        "id": "d989bd77",
        "outputId": "5e972d5c-f5d5-44a8-88a2-accaddbb9bc2"
      },
      "source": [
        "df"
      ],
      "id": "d989bd77",
      "execution_count": null,
      "outputs": [
        {
          "output_type": "execute_result",
          "data": {
            "text/html": [
              "<div>\n",
              "<style scoped>\n",
              "    .dataframe tbody tr th:only-of-type {\n",
              "        vertical-align: middle;\n",
              "    }\n",
              "\n",
              "    .dataframe tbody tr th {\n",
              "        vertical-align: top;\n",
              "    }\n",
              "\n",
              "    .dataframe thead th {\n",
              "        text-align: right;\n",
              "    }\n",
              "</style>\n",
              "<table border=\"1\" class=\"dataframe\">\n",
              "  <thead>\n",
              "    <tr style=\"text-align: right;\">\n",
              "      <th></th>\n",
              "      <th>x1</th>\n",
              "      <th>x2</th>\n",
              "      <th>y</th>\n",
              "    </tr>\n",
              "  </thead>\n",
              "  <tbody>\n",
              "    <tr>\n",
              "      <th>0</th>\n",
              "      <td>-119.366669</td>\n",
              "      <td>1.150000e+02</td>\n",
              "      <td>1</td>\n",
              "    </tr>\n",
              "    <tr>\n",
              "      <th>1</th>\n",
              "      <td>-101.108044</td>\n",
              "      <td>9.777716e+01</td>\n",
              "      <td>1</td>\n",
              "    </tr>\n",
              "    <tr>\n",
              "      <th>2</th>\n",
              "      <td>-130.278658</td>\n",
              "      <td>1.067677e+02</td>\n",
              "      <td>1</td>\n",
              "    </tr>\n",
              "    <tr>\n",
              "      <th>3</th>\n",
              "      <td>-114.703415</td>\n",
              "      <td>1.011955e+02</td>\n",
              "      <td>1</td>\n",
              "    </tr>\n",
              "    <tr>\n",
              "      <th>4</th>\n",
              "      <td>-119.366669</td>\n",
              "      <td>1.150000e+02</td>\n",
              "      <td>1</td>\n",
              "    </tr>\n",
              "    <tr>\n",
              "      <th>...</th>\n",
              "      <td>...</td>\n",
              "      <td>...</td>\n",
              "      <td>...</td>\n",
              "    </tr>\n",
              "    <tr>\n",
              "      <th>2222</th>\n",
              "      <td>98.714112</td>\n",
              "      <td>8.964312e+01</td>\n",
              "      <td>0</td>\n",
              "    </tr>\n",
              "    <tr>\n",
              "      <th>2223</th>\n",
              "      <td>96.633331</td>\n",
              "      <td>9.100000e+01</td>\n",
              "      <td>0</td>\n",
              "    </tr>\n",
              "    <tr>\n",
              "      <th>2224</th>\n",
              "      <td>85.673940</td>\n",
              "      <td>1.038393e+02</td>\n",
              "      <td>0</td>\n",
              "    </tr>\n",
              "    <tr>\n",
              "      <th>2225</th>\n",
              "      <td>78.958862</td>\n",
              "      <td>7.860537e+01</td>\n",
              "      <td>0</td>\n",
              "    </tr>\n",
              "    <tr>\n",
              "      <th>2226</th>\n",
              "      <td>109.624009</td>\n",
              "      <td>1.000000e+08</td>\n",
              "      <td>0</td>\n",
              "    </tr>\n",
              "  </tbody>\n",
              "</table>\n",
              "<p>2227 rows × 3 columns</p>\n",
              "</div>"
            ],
            "text/plain": [
              "              x1            x2  y\n",
              "0    -119.366669  1.150000e+02  1\n",
              "1    -101.108044  9.777716e+01  1\n",
              "2    -130.278658  1.067677e+02  1\n",
              "3    -114.703415  1.011955e+02  1\n",
              "4    -119.366669  1.150000e+02  1\n",
              "...          ...           ... ..\n",
              "2222   98.714112  8.964312e+01  0\n",
              "2223   96.633331  9.100000e+01  0\n",
              "2224   85.673940  1.038393e+02  0\n",
              "2225   78.958862  7.860537e+01  0\n",
              "2226  109.624009  1.000000e+08  0\n",
              "\n",
              "[2227 rows x 3 columns]"
            ]
          },
          "metadata": {},
          "execution_count": 3
        }
      ]
    },
    {
      "cell_type": "code",
      "metadata": {
        "colab": {
          "base_uri": "https://localhost:8080/",
          "height": 297
        },
        "id": "3daa1afb",
        "outputId": "00fc18d8-64b6-4bec-b9ed-63feb61cb85d"
      },
      "source": [
        "df.describe()"
      ],
      "id": "3daa1afb",
      "execution_count": null,
      "outputs": [
        {
          "output_type": "execute_result",
          "data": {
            "text/html": [
              "<div>\n",
              "<style scoped>\n",
              "    .dataframe tbody tr th:only-of-type {\n",
              "        vertical-align: middle;\n",
              "    }\n",
              "\n",
              "    .dataframe tbody tr th {\n",
              "        vertical-align: top;\n",
              "    }\n",
              "\n",
              "    .dataframe thead th {\n",
              "        text-align: right;\n",
              "    }\n",
              "</style>\n",
              "<table border=\"1\" class=\"dataframe\">\n",
              "  <thead>\n",
              "    <tr style=\"text-align: right;\">\n",
              "      <th></th>\n",
              "      <th>x1</th>\n",
              "      <th>x2</th>\n",
              "      <th>y</th>\n",
              "    </tr>\n",
              "  </thead>\n",
              "  <tbody>\n",
              "    <tr>\n",
              "      <th>count</th>\n",
              "      <td>2222.000000</td>\n",
              "      <td>2.224000e+03</td>\n",
              "      <td>2227.000000</td>\n",
              "    </tr>\n",
              "    <tr>\n",
              "      <th>mean</th>\n",
              "      <td>-4.818766</td>\n",
              "      <td>8.947626e+04</td>\n",
              "      <td>0.442299</td>\n",
              "    </tr>\n",
              "    <tr>\n",
              "      <th>std</th>\n",
              "      <td>74.939909</td>\n",
              "      <td>2.983323e+06</td>\n",
              "      <td>0.496771</td>\n",
              "    </tr>\n",
              "    <tr>\n",
              "      <th>min</th>\n",
              "      <td>-134.369160</td>\n",
              "      <td>-1.348761e+02</td>\n",
              "      <td>0.000000</td>\n",
              "    </tr>\n",
              "    <tr>\n",
              "      <th>25%</th>\n",
              "      <td>-71.757030</td>\n",
              "      <td>-8.012983e+01</td>\n",
              "      <td>0.000000</td>\n",
              "    </tr>\n",
              "    <tr>\n",
              "      <th>50%</th>\n",
              "      <td>-9.836555</td>\n",
              "      <td>-1.046151e+00</td>\n",
              "      <td>0.000000</td>\n",
              "    </tr>\n",
              "    <tr>\n",
              "      <th>75%</th>\n",
              "      <td>59.813962</td>\n",
              "      <td>6.389086e+01</td>\n",
              "      <td>1.000000</td>\n",
              "    </tr>\n",
              "    <tr>\n",
              "      <th>max</th>\n",
              "      <td>134.508687</td>\n",
              "      <td>1.000000e+08</td>\n",
              "      <td>1.000000</td>\n",
              "    </tr>\n",
              "  </tbody>\n",
              "</table>\n",
              "</div>"
            ],
            "text/plain": [
              "                x1            x2            y\n",
              "count  2222.000000  2.224000e+03  2227.000000\n",
              "mean     -4.818766  8.947626e+04     0.442299\n",
              "std      74.939909  2.983323e+06     0.496771\n",
              "min    -134.369160 -1.348761e+02     0.000000\n",
              "25%     -71.757030 -8.012983e+01     0.000000\n",
              "50%      -9.836555 -1.046151e+00     0.000000\n",
              "75%      59.813962  6.389086e+01     1.000000\n",
              "max     134.508687  1.000000e+08     1.000000"
            ]
          },
          "metadata": {},
          "execution_count": 4
        }
      ]
    },
    {
      "cell_type": "code",
      "metadata": {
        "colab": {
          "base_uri": "https://localhost:8080/"
        },
        "id": "373e520f",
        "outputId": "c96af620-7f99-4280-9cc6-baa789744b21"
      },
      "source": [
        "df.info()"
      ],
      "id": "373e520f",
      "execution_count": null,
      "outputs": [
        {
          "output_type": "stream",
          "name": "stdout",
          "text": [
            "<class 'pandas.core.frame.DataFrame'>\n",
            "RangeIndex: 2227 entries, 0 to 2226\n",
            "Data columns (total 3 columns):\n",
            " #   Column  Non-Null Count  Dtype  \n",
            "---  ------  --------------  -----  \n",
            " 0   x1      2222 non-null   float64\n",
            " 1   x2      2224 non-null   float64\n",
            " 2   y       2227 non-null   int64  \n",
            "dtypes: float64(2), int64(1)\n",
            "memory usage: 52.3 KB\n"
          ]
        }
      ]
    },
    {
      "cell_type": "code",
      "metadata": {
        "colab": {
          "base_uri": "https://localhost:8080/"
        },
        "id": "6ee0a30a",
        "outputId": "45ada64a-6891-41d0-97f8-0dbfc0ff84d9"
      },
      "source": [
        "df.isnull().sum()"
      ],
      "id": "6ee0a30a",
      "execution_count": null,
      "outputs": [
        {
          "output_type": "execute_result",
          "data": {
            "text/plain": [
              "x1    5\n",
              "x2    3\n",
              "y     0\n",
              "dtype: int64"
            ]
          },
          "metadata": {},
          "execution_count": 6
        }
      ]
    },
    {
      "cell_type": "code",
      "metadata": {
        "id": "95b70413"
      },
      "source": [
        "import matplotlib.pyplot as plt\n",
        "import seaborn as sns"
      ],
      "id": "95b70413",
      "execution_count": null,
      "outputs": []
    },
    {
      "cell_type": "code",
      "metadata": {
        "id": "16d7fa3e"
      },
      "source": [
        "# Checking imbalance problem"
      ],
      "id": "16d7fa3e",
      "execution_count": null,
      "outputs": []
    },
    {
      "cell_type": "code",
      "metadata": {
        "colab": {
          "base_uri": "https://localhost:8080/"
        },
        "id": "c78d0458",
        "outputId": "98b838cd-b020-48a6-b3e4-9a8773fdd289"
      },
      "source": [
        "df['y'].value_counts()"
      ],
      "id": "c78d0458",
      "execution_count": null,
      "outputs": [
        {
          "output_type": "execute_result",
          "data": {
            "text/plain": [
              "0    1242\n",
              "1     985\n",
              "Name: y, dtype: int64"
            ]
          },
          "metadata": {},
          "execution_count": 9
        }
      ]
    },
    {
      "cell_type": "code",
      "metadata": {
        "colab": {
          "base_uri": "https://localhost:8080/",
          "height": 330
        },
        "id": "3117c09c",
        "outputId": "e785ccab-3f90-47e2-b0f9-0290dfca6652"
      },
      "source": [
        "boxplot=df.boxplot(column=['x1','x2','y'])"
      ],
      "id": "3117c09c",
      "execution_count": null,
      "outputs": [
        {
          "output_type": "stream",
          "name": "stderr",
          "text": [
            "/usr/local/lib/python3.7/dist-packages/numpy/core/_asarray.py:83: VisibleDeprecationWarning: Creating an ndarray from ragged nested sequences (which is a list-or-tuple of lists-or-tuples-or ndarrays with different lengths or shapes) is deprecated. If you meant to do this, you must specify 'dtype=object' when creating the ndarray\n",
            "  return array(a, dtype, copy=False, order=order)\n"
          ]
        },
        {
          "output_type": "display_data",
          "data": {
            "image/png": "[encoded data removed]",
            "text/plain": [
              "<Figure size 432x288 with 1 Axes>"
            ]
          },
          "metadata": {
            "needs_background": "light"
          }
        }
      ]
    },
    {
      "cell_type": "code",
      "metadata": {
        "colab": {
          "base_uri": "https://localhost:8080/",
          "height": 293
        },
        "id": "e84c7316",
        "outputId": "354da835-fae3-4e4d-8afd-0035cdf13cdf"
      },
      "source": [
        "df.boxplot(column=['x2'])"
      ],
      "id": "e84c7316",
      "execution_count": null,
      "outputs": [
        {
          "output_type": "execute_result",
          "data": {
            "text/plain": [
              "<matplotlib.axes._subplots.AxesSubplot at 0x7f279af76810>"
            ]
          },
          "metadata": {},
          "execution_count": 11
        },
        {
          "output_type": "display_data",
          "data": {
            "image/png": "[encoded data removed]",
            "text/plain": [
              "<Figure size 432x288 with 1 Axes>"
            ]
          },
          "metadata": {
            "needs_background": "light"
          }
        }
      ]
    },
    {
      "cell_type": "code",
      "metadata": {
        "colab": {
          "base_uri": "https://localhost:8080/",
          "height": 265
        },
        "id": "ac95b8fa",
        "outputId": "c9918905-b0e1-4209-ac8f-ba0fc955faa7"
      },
      "source": [
        "plt.boxplot(df[\"y\"])\n",
        "plt.show()"
      ],
      "id": "ac95b8fa",
      "execution_count": null,
      "outputs": [
        {
          "output_type": "display_data",
          "data": {
            "image/png": "[encoded data removed]",
            "text/plain": [
              "<Figure size 432x288 with 1 Axes>"
            ]
          },
          "metadata": {
            "needs_background": "light"
          }
        }
      ]
    },
    {
      "cell_type": "code",
      "metadata": {
        "colab": {
          "base_uri": "https://localhost:8080/",
          "height": 567
        },
        "id": "a471e9cc",
        "outputId": "21c315d3-8c07-40fc-9ec1-7c0cee2678b3"
      },
      "source": [
        "sns.pairplot(df,diag_kind=\"kde\")"
      ],
      "id": "a471e9cc",
      "execution_count": null,
      "outputs": [
        {
          "output_type": "execute_result",
          "data": {
            "text/plain": [
              "<seaborn.axisgrid.PairGrid at 0x7f279aa04250>"
            ]
          },
          "metadata": {},
          "execution_count": 13
        },
        {
          "output_type": "display_data",
          "data": {
            "image/png": "[encoded data removed]",
            "text/plain": [
              "<Figure size 540x540 with 12 Axes>"
            ]
          },
          "metadata": {
            "needs_background": "light"
          }
        }
      ]
    },
    {
      "cell_type": "code",
      "metadata": {
        "id": "0f7e64b6"
      },
      "source": [
        ""
      ],
      "id": "0f7e64b6",
      "execution_count": null,
      "outputs": []
    },
    {
      "cell_type": "markdown",
      "metadata": {
        "id": "041f68c4"
      },
      "source": [
        "# Model LIBRARIES"
      ],
      "id": "041f68c4"
    },
    {
      "cell_type": "code",
      "metadata": {
        "id": "3d341575"
      },
      "source": [
        "from sklearn.linear_model import LogisticRegression\n",
        "from sklearn.model_selection import train_test_split\n",
        "import numpy as np"
      ],
      "id": "3d341575",
      "execution_count": null,
      "outputs": []
    },
    {
      "cell_type": "code",
      "metadata": {
        "id": "9483af91"
      },
      "source": [
        "np.random.seed(42)"
      ],
      "id": "9483af91",
      "execution_count": null,
      "outputs": []
    },
    {
      "cell_type": "code",
      "metadata": {
        "colab": {
          "base_uri": "https://localhost:8080/",
          "height": 419
        },
        "id": "cba94fe1",
        "outputId": "84b33a97-79db-46ac-c74a-09c579466bf7"
      },
      "source": [
        "df"
      ],
      "id": "cba94fe1",
      "execution_count": null,
      "outputs": [
        {
          "output_type": "execute_result",
          "data": {
            "text/html": [
              "<div>\n",
              "<style scoped>\n",
              "    .dataframe tbody tr th:only-of-type {\n",
              "        vertical-align: middle;\n",
              "    }\n",
              "\n",
              "    .dataframe tbody tr th {\n",
              "        vertical-align: top;\n",
              "    }\n",
              "\n",
              "    .dataframe thead th {\n",
              "        text-align: right;\n",
              "    }\n",
              "</style>\n",
              "<table border=\"1\" class=\"dataframe\">\n",
              "  <thead>\n",
              "    <tr style=\"text-align: right;\">\n",
              "      <th></th>\n",
              "      <th>x1</th>\n",
              "      <th>x2</th>\n",
              "      <th>y</th>\n",
              "    </tr>\n",
              "  </thead>\n",
              "  <tbody>\n",
              "    <tr>\n",
              "      <th>0</th>\n",
              "      <td>-119.366669</td>\n",
              "      <td>1.150000e+02</td>\n",
              "      <td>1</td>\n",
              "    </tr>\n",
              "    <tr>\n",
              "      <th>1</th>\n",
              "      <td>-101.108044</td>\n",
              "      <td>9.777716e+01</td>\n",
              "      <td>1</td>\n",
              "    </tr>\n",
              "    <tr>\n",
              "      <th>2</th>\n",
              "      <td>-130.278658</td>\n",
              "      <td>1.067677e+02</td>\n",
              "      <td>1</td>\n",
              "    </tr>\n",
              "    <tr>\n",
              "      <th>3</th>\n",
              "      <td>-114.703415</td>\n",
              "      <td>1.011955e+02</td>\n",
              "      <td>1</td>\n",
              "    </tr>\n",
              "    <tr>\n",
              "      <th>4</th>\n",
              "      <td>-119.366669</td>\n",
              "      <td>1.150000e+02</td>\n",
              "      <td>1</td>\n",
              "    </tr>\n",
              "    <tr>\n",
              "      <th>...</th>\n",
              "      <td>...</td>\n",
              "      <td>...</td>\n",
              "      <td>...</td>\n",
              "    </tr>\n",
              "    <tr>\n",
              "      <th>2222</th>\n",
              "      <td>98.714112</td>\n",
              "      <td>8.964312e+01</td>\n",
              "      <td>0</td>\n",
              "    </tr>\n",
              "    <tr>\n",
              "      <th>2223</th>\n",
              "      <td>96.633331</td>\n",
              "      <td>9.100000e+01</td>\n",
              "      <td>0</td>\n",
              "    </tr>\n",
              "    <tr>\n",
              "      <th>2224</th>\n",
              "      <td>85.673940</td>\n",
              "      <td>1.038393e+02</td>\n",
              "      <td>0</td>\n",
              "    </tr>\n",
              "    <tr>\n",
              "      <th>2225</th>\n",
              "      <td>78.958862</td>\n",
              "      <td>7.860537e+01</td>\n",
              "      <td>0</td>\n",
              "    </tr>\n",
              "    <tr>\n",
              "      <th>2226</th>\n",
              "      <td>109.624009</td>\n",
              "      <td>1.000000e+08</td>\n",
              "      <td>0</td>\n",
              "    </tr>\n",
              "  </tbody>\n",
              "</table>\n",
              "<p>2227 rows × 3 columns</p>\n",
              "</div>"
            ],
            "text/plain": [
              "              x1            x2  y\n",
              "0    -119.366669  1.150000e+02  1\n",
              "1    -101.108044  9.777716e+01  1\n",
              "2    -130.278658  1.067677e+02  1\n",
              "3    -114.703415  1.011955e+02  1\n",
              "4    -119.366669  1.150000e+02  1\n",
              "...          ...           ... ..\n",
              "2222   98.714112  8.964312e+01  0\n",
              "2223   96.633331  9.100000e+01  0\n",
              "2224   85.673940  1.038393e+02  0\n",
              "2225   78.958862  7.860537e+01  0\n",
              "2226  109.624009  1.000000e+08  0\n",
              "\n",
              "[2227 rows x 3 columns]"
            ]
          },
          "metadata": {},
          "execution_count": 16
        }
      ]
    },
    {
      "cell_type": "markdown",
      "metadata": {
        "id": "3de9ef9b"
      },
      "source": [
        "# Filling missing Values"
      ],
      "id": "3de9ef9b"
    },
    {
      "cell_type": "code",
      "metadata": {
        "id": "a2954bd4"
      },
      "source": [
        "median = df[\"x1\"].median()\n",
        "df[\"x1\"].fillna(median, inplace=True)"
      ],
      "id": "a2954bd4",
      "execution_count": null,
      "outputs": []
    },
    {
      "cell_type": "code",
      "metadata": {
        "id": "5fb54e00"
      },
      "source": [
        "median2 = df[\"x2\"].median()\n",
        "df[\"x2\"].fillna(median2, inplace=True)"
      ],
      "id": "5fb54e00",
      "execution_count": null,
      "outputs": []
    },
    {
      "cell_type": "code",
      "metadata": {
        "colab": {
          "base_uri": "https://localhost:8080/"
        },
        "id": "f6df8b92",
        "outputId": "bf811a0b-368f-4a3c-8e51-529caece91b7"
      },
      "source": [
        "df.isnull().sum()"
      ],
      "id": "f6df8b92",
      "execution_count": null,
      "outputs": [
        {
          "output_type": "execute_result",
          "data": {
            "text/plain": [
              "x1    0\n",
              "x2    0\n",
              "y     0\n",
              "dtype: int64"
            ]
          },
          "metadata": {},
          "execution_count": 19
        }
      ]
    },
    {
      "cell_type": "markdown",
      "metadata": {
        "id": "ewIaT-3jnKBD"
      },
      "source": [
        "SPLITTING"
      ],
      "id": "ewIaT-3jnKBD"
    },
    {
      "cell_type": "code",
      "metadata": {
        "id": "5a57281c"
      },
      "source": [
        "y=df['y']"
      ],
      "id": "5a57281c",
      "execution_count": null,
      "outputs": []
    },
    {
      "cell_type": "code",
      "metadata": {
        "colab": {
          "base_uri": "https://localhost:8080/"
        },
        "id": "13655955",
        "outputId": "b5e550d8-ef76-463b-dae3-24e928981604"
      },
      "source": [
        "y.shape"
      ],
      "id": "13655955",
      "execution_count": null,
      "outputs": [
        {
          "output_type": "execute_result",
          "data": {
            "text/plain": [
              "(2227,)"
            ]
          },
          "metadata": {},
          "execution_count": 21
        }
      ]
    },
    {
      "cell_type": "code",
      "metadata": {
        "id": "af49b298"
      },
      "source": [
        "X=df.drop('y',axis=1)"
      ],
      "id": "af49b298",
      "execution_count": null,
      "outputs": []
    },
    {
      "cell_type": "code",
      "metadata": {
        "colab": {
          "base_uri": "https://localhost:8080/"
        },
        "id": "d0309e4b",
        "outputId": "9859ba8c-ee59-4cc6-f9cc-fe01b80f5872"
      },
      "source": [
        "X.shape"
      ],
      "id": "d0309e4b",
      "execution_count": null,
      "outputs": [
        {
          "output_type": "execute_result",
          "data": {
            "text/plain": [
              "(2227, 2)"
            ]
          },
          "metadata": {},
          "execution_count": 23
        }
      ]
    },
    {
      "cell_type": "markdown",
      "metadata": {
        "id": "05f82300"
      },
      "source": [
        "# Logistic Regression"
      ],
      "id": "05f82300"
    },
    {
      "cell_type": "code",
      "metadata": {
        "colab": {
          "base_uri": "https://localhost:8080/"
        },
        "id": "b072100c",
        "outputId": "a953a83f-37ba-4034-a25a-e014f2c1edba"
      },
      "source": [
        "np.random.seed(42)\n",
        "\n",
        "\n",
        "X_train,X_test,y_train,y_test=train_test_split(X,y,test_size=0.2)\n",
        "\n",
        "\n",
        "lr=LogisticRegression(solver=\"liblinear\")\n",
        "\n",
        "lr.fit(X_train,y_train)"
      ],
      "id": "b072100c",
      "execution_count": null,
      "outputs": [
        {
          "output_type": "stream",
          "name": "stdout",
          "text": [
            "[LibLinear]"
          ]
        },
        {
          "output_type": "stream",
          "name": "stderr",
          "text": [
            "/usr/local/lib/python3.7/dist-packages/sklearn/svm/_base.py:947: ConvergenceWarning: Liblinear failed to converge, increase the number of iterations.\n",
            "  \"the number of iterations.\", ConvergenceWarning)\n"
          ]
        },
        {
          "output_type": "execute_result",
          "data": {
            "text/plain": [
              "LogisticRegression(C=1.0, class_weight=None, dual=False, fit_intercept=True,\n",
              "                   intercept_scaling=1, l1_ratio=None, max_iter=100,\n",
              "                   multi_class='auto', n_jobs=None, penalty='l2',\n",
              "                   random_state=None, solver='liblinear', tol=0.0001,\n",
              "                   verbose=True, warm_start=False)"
            ]
          },
          "metadata": {},
          "execution_count": 49
        }
      ]
    },
    {
      "cell_type": "code",
      "metadata": {
        "colab": {
          "base_uri": "https://localhost:8080/"
        },
        "id": "e546fbaa",
        "outputId": "cd6ee62a-a59d-4c58-99d9-49679e739a54"
      },
      "source": [
        "lr.score(X_test,y_test)"
      ],
      "id": "e546fbaa",
      "execution_count": null,
      "outputs": [
        {
          "output_type": "execute_result",
          "data": {
            "text/plain": [
              "0.5672645739910314"
            ]
          },
          "metadata": {},
          "execution_count": 50
        }
      ]
    },
    {
      "cell_type": "code",
      "metadata": {
        "colab": {
          "base_uri": "https://localhost:8080/"
        },
        "id": "VsFQLlCyay1T",
        "outputId": "c55e831d-beef-4cb2-c750-35631e63b846"
      },
      "source": [
        "lr.get_params()"
      ],
      "id": "VsFQLlCyay1T",
      "execution_count": null,
      "outputs": [
        {
          "output_type": "execute_result",
          "data": {
            "text/plain": [
              "{'C': 1.0,\n",
              " 'class_weight': None,\n",
              " 'dual': False,\n",
              " 'fit_intercept': True,\n",
              " 'intercept_scaling': 1,\n",
              " 'l1_ratio': None,\n",
              " 'max_iter': 100,\n",
              " 'multi_class': 'auto',\n",
              " 'n_jobs': None,\n",
              " 'penalty': 'l2',\n",
              " 'random_state': None,\n",
              " 'solver': 'liblinear',\n",
              " 'tol': 0.0001,\n",
              " 'verbose': 0,\n",
              " 'warm_start': False}"
            ]
          },
          "metadata": {},
          "execution_count": 37
        }
      ]
    },
    {
      "cell_type": "markdown",
      "metadata": {
        "id": "545381b5"
      },
      "source": [
        "# DEcisoin Tree"
      ],
      "id": "545381b5"
    },
    {
      "cell_type": "code",
      "metadata": {
        "id": "ede265e2"
      },
      "source": [
        "from sklearn.tree import DecisionTreeClassifier"
      ],
      "id": "ede265e2",
      "execution_count": null,
      "outputs": []
    },
    {
      "cell_type": "code",
      "metadata": {
        "colab": {
          "base_uri": "https://localhost:8080/",
          "height": 232
        },
        "id": "d95b1b9e",
        "outputId": "6e1c2f0c-9d53-4e65-e8bb-e0fa471adb99"
      },
      "source": [
        "np.random.seed(42)\n",
        "\n",
        "\n",
        "X_train,X_test,y_train,y_test=train_test_split(X,y,test_size=0.2)\n",
        "\n",
        "p = DecisionTreeClassifer()\n",
        "\n",
        "p.fit(X_train,y_train)\n"
      ],
      "id": "d95b1b9e",
      "execution_count": null,
      "outputs": [
        {
          "output_type": "error",
          "ename": "NameError",
          "evalue": "ignored",
          "traceback": [
            "\u001b[0;31m---------------------------------------------------------------------------\u001b[0m",
            "\u001b[0;31mNameError\u001b[0m                                 Traceback (most recent call last)",
            "\u001b[0;32m<ipython-input-65-22b046922e05>\u001b[0m in \u001b[0;36m<module>\u001b[0;34m()\u001b[0m\n\u001b[1;32m      4\u001b[0m \u001b[0mX_train\u001b[0m\u001b[0;34m,\u001b[0m\u001b[0mX_test\u001b[0m\u001b[0;34m,\u001b[0m\u001b[0my_train\u001b[0m\u001b[0;34m,\u001b[0m\u001b[0my_test\u001b[0m\u001b[0;34m=\u001b[0m\u001b[0mtrain_test_split\u001b[0m\u001b[0;34m(\u001b[0m\u001b[0mX\u001b[0m\u001b[0;34m,\u001b[0m\u001b[0my\u001b[0m\u001b[0;34m,\u001b[0m\u001b[0mtest_size\u001b[0m\u001b[0;34m=\u001b[0m\u001b[0;36m0.2\u001b[0m\u001b[0;34m)\u001b[0m\u001b[0;34m\u001b[0m\u001b[0;34m\u001b[0m\u001b[0m\n\u001b[1;32m      5\u001b[0m \u001b[0;34m\u001b[0m\u001b[0m\n\u001b[0;32m----> 6\u001b[0;31m \u001b[0mp\u001b[0m \u001b[0;34m=\u001b[0m \u001b[0mDecisionTreeClassifer\u001b[0m\u001b[0;34m(\u001b[0m\u001b[0;34m)\u001b[0m\u001b[0;34m\u001b[0m\u001b[0;34m\u001b[0m\u001b[0m\n\u001b[0m\u001b[1;32m      7\u001b[0m \u001b[0;34m\u001b[0m\u001b[0m\n\u001b[1;32m      8\u001b[0m \u001b[0mp\u001b[0m\u001b[0;34m.\u001b[0m\u001b[0mfit\u001b[0m\u001b[0;34m(\u001b[0m\u001b[0mX_train\u001b[0m\u001b[0;34m,\u001b[0m\u001b[0my_train\u001b[0m\u001b[0;34m)\u001b[0m\u001b[0;34m\u001b[0m\u001b[0;34m\u001b[0m\u001b[0m\n",
            "\u001b[0;31mNameError\u001b[0m: name 'DecisionTreeClassifer' is not defined"
          ]
        }
      ]
    },
    {
      "cell_type": "markdown",
      "metadata": {
        "id": "kVPuLMHBlo7w"
      },
      "source": [
        ""
      ],
      "id": "kVPuLMHBlo7w"
    },
    {
      "cell_type": "markdown",
      "metadata": {
        "id": "RroTnAUCmRCs"
      },
      "source": [
        "SVC without hyperparameter"
      ],
      "id": "RroTnAUCmRCs"
    },
    {
      "cell_type": "code",
      "metadata": {
        "colab": {
          "base_uri": "https://localhost:8080/"
        },
        "id": "wTbGABTQlojY",
        "outputId": "ff104f06-cb56-4cab-8b95-7efab9518512"
      },
      "source": [
        "np.random.seed(42)\n",
        "\n",
        "X_train,X_test,y_train,y_test=train_test_split(X,y,test_size=0.2)\n",
        "\n",
        "clf=SVC(kernel=\"linear\")\n",
        "\n",
        "clf.fit(X_train,y_train)\n"
      ],
      "id": "wTbGABTQlojY",
      "execution_count": null,
      "outputs": [
        {
          "output_type": "execute_result",
          "data": {
            "text/plain": [
              "SVC(C=1.0, break_ties=False, cache_size=200, class_weight=None, coef0=0.0,\n",
              "    decision_function_shape='ovr', degree=3, gamma='scale', kernel='linear',\n",
              "    max_iter=-1, probability=False, random_state=None, shrinking=True,\n",
              "    tol=0.001, verbose=False)"
            ]
          },
          "metadata": {},
          "execution_count": 92
        }
      ]
    },
    {
      "cell_type": "code",
      "metadata": {
        "id": "0CGcHYQfmZLM"
      },
      "source": [
        "clf.score(X_test,y_test)"
      ],
      "id": "0CGcHYQfmZLM",
      "execution_count": null,
      "outputs": []
    },
    {
      "cell_type": "markdown",
      "metadata": {
        "id": "i6RgtmtxgwUi"
      },
      "source": [
        "SVC with hyperparamter"
      ],
      "id": "i6RgtmtxgwUi"
    },
    {
      "cell_type": "code",
      "metadata": {
        "id": "8edb0827"
      },
      "source": [
        "from sklearn.svm import SVC"
      ],
      "id": "8edb0827",
      "execution_count": null,
      "outputs": []
    },
    {
      "cell_type": "code",
      "metadata": {
        "colab": {
          "base_uri": "https://localhost:8080/"
        },
        "id": "SoDh-VqwX2Mx",
        "outputId": "a9164e87-ba23-41d3-93ef-448a22ae9efe"
      },
      "source": [
        "np.random.seed(42)\n",
        "\n",
        "X_train,X_test,y_train,y_test=train_test_split(X,y,test_size=0.2)\n",
        "\n",
        "clf=SVC(kernel=\"linear\",C=10,degree=3,gamma='scale')\n",
        "\n",
        "clf.fit(X_train,y_train)\n",
        "\n"
      ],
      "id": "SoDh-VqwX2Mx",
      "execution_count": null,
      "outputs": [
        {
          "output_type": "execute_result",
          "data": {
            "text/plain": [
              "SVC(C=1, break_ties=False, cache_size=200, class_weight=None, coef0=0.0,\n",
              "    decision_function_shape='ovr', degree=3, gamma='scale', kernel='linear',\n",
              "    max_iter=-1, probability=False, random_state=None, shrinking=True,\n",
              "    tol=0.001, verbose=False)"
            ]
          },
          "metadata": {},
          "execution_count": 82
        }
      ]
    },
    {
      "cell_type": "code",
      "metadata": {
        "colab": {
          "base_uri": "https://localhost:8080/"
        },
        "id": "tkvxFbiIYudI",
        "outputId": "58a192e1-0ae2-4496-acf3-5a6a887c58c4"
      },
      "source": [
        "clf.score(X_test,y_test)"
      ],
      "id": "tkvxFbiIYudI",
      "execution_count": null,
      "outputs": [
        {
          "output_type": "execute_result",
          "data": {
            "text/plain": [
              "0.5403587443946188"
            ]
          },
          "metadata": {},
          "execution_count": 81
        }
      ]
    },
    {
      "cell_type": "markdown",
      "metadata": {
        "id": "_BpqeByLgXRh"
      },
      "source": [
        "SVM parameter grid search"
      ],
      "id": "_BpqeByLgXRh"
    },
    {
      "cell_type": "code",
      "metadata": {
        "colab": {
          "base_uri": "https://localhost:8080/"
        },
        "id": "LKo9YP_9cmM-",
        "outputId": "8e48123b-cd75-4faa-8d1e-cb63dd6ec307"
      },
      "source": [
        "from sklearn.model_selection import GridSearchCV\n",
        "\n",
        "param_grid = [\n",
        "\n",
        "    {'C':[0.1, 1, 10, 100, 1000], 'gamma': [0.1, 1, 10, 100], 'degree': [0, 1, 2, 3, 4, 5, 6]}\n",
        "  ]\n",
        "\n",
        "random = SVC(random_state=42)\n",
        "grid_search = GridSearchCV(random, param_grid, cv=5,\n",
        "                            return_train_score=True)\n",
        "grid_search.fit(X_train, y_train)"
      ],
      "id": "LKo9YP_9cmM-",
      "execution_count": null,
      "outputs": [
        {
          "output_type": "execute_result",
          "data": {
            "text/plain": [
              "GridSearchCV(cv=5, error_score=nan,\n",
              "             estimator=SVC(C=1.0, break_ties=False, cache_size=200,\n",
              "                           class_weight=None, coef0=0.0,\n",
              "                           decision_function_shape='ovr', degree=3,\n",
              "                           gamma='scale', kernel='rbf', max_iter=-1,\n",
              "                           probability=False, random_state=42, shrinking=True,\n",
              "                           tol=0.001, verbose=False),\n",
              "             iid='deprecated', n_jobs=None,\n",
              "             param_grid=[{'C': [0.1, 1, 10, 100, 1000],\n",
              "                          'degree': [0, 1, 2, 3, 4, 5, 6],\n",
              "                          'gamma': [0.1, 1, 10, 100]}],\n",
              "             pre_dispatch='2*n_jobs', refit=True, return_train_score=True,\n",
              "             scoring=None, verbose=0)"
            ]
          },
          "metadata": {},
          "execution_count": 70
        }
      ]
    },
    {
      "cell_type": "code",
      "metadata": {
        "colab": {
          "base_uri": "https://localhost:8080/"
        },
        "id": "wlQ6W225h6oY",
        "outputId": "7396a873-d634-41f7-bc00-5f8afe480d3e"
      },
      "source": [
        "grid_search.score(X_test,y_test)"
      ],
      "id": "wlQ6W225h6oY",
      "execution_count": null,
      "outputs": [
        {
          "output_type": "execute_result",
          "data": {
            "text/plain": [
              "0.9237668161434978"
            ]
          },
          "metadata": {},
          "execution_count": 71
        }
      ]
    },
    {
      "cell_type": "code",
      "metadata": {
        "colab": {
          "base_uri": "https://localhost:8080/"
        },
        "id": "h8XbTIEUiCAt",
        "outputId": "374dfb1c-6e40-43f8-de99-43d12cb1fbd5"
      },
      "source": [
        "grid_search.best_params_"
      ],
      "id": "h8XbTIEUiCAt",
      "execution_count": null,
      "outputs": [
        {
          "output_type": "execute_result",
          "data": {
            "text/plain": [
              "{'C': 1, 'degree': 0, 'gamma': 0.1}"
            ]
          },
          "metadata": {},
          "execution_count": 74
        }
      ]
    },
    {
      "cell_type": "markdown",
      "metadata": {
        "id": "CSVJG5oYla28"
      },
      "source": [
        "KNN without HYPerparameter"
      ],
      "id": "CSVJG5oYla28"
    },
    {
      "cell_type": "code",
      "metadata": {
        "colab": {
          "base_uri": "https://localhost:8080/"
        },
        "id": "46jTPC8elUpR",
        "outputId": "86f5dbfe-63de-42c0-d1ea-ddd86ed1df8b"
      },
      "source": [
        "from sklearn.neighbors import KNeighborsClassifier\n",
        "\n",
        "model = KNeighborsClassifier()\n",
        "\n",
        "# Train the model using the training sets\n",
        "model.fit(X_train,y_train)\n"
      ],
      "id": "46jTPC8elUpR",
      "execution_count": null,
      "outputs": [
        {
          "output_type": "execute_result",
          "data": {
            "text/plain": [
              "KNeighborsClassifier(algorithm='auto', leaf_size=30, metric='minkowski',\n",
              "                     metric_params=None, n_jobs=None, n_neighbors=5, p=2,\n",
              "                     weights='uniform')"
            ]
          },
          "metadata": {},
          "execution_count": 89
        }
      ]
    },
    {
      "cell_type": "code",
      "metadata": {
        "colab": {
          "base_uri": "https://localhost:8080/"
        },
        "id": "orCac_KGmDWq",
        "outputId": "291db1b5-f7c7-43d8-bc19-059686131110"
      },
      "source": [
        "model.score(X_test,y_test)"
      ],
      "id": "orCac_KGmDWq",
      "execution_count": null,
      "outputs": [
        {
          "output_type": "execute_result",
          "data": {
            "text/plain": [
              "0.9618834080717489"
            ]
          },
          "metadata": {},
          "execution_count": 91
        }
      ]
    },
    {
      "cell_type": "markdown",
      "metadata": {
        "id": "s8C9kFsdj46c"
      },
      "source": [
        "KNN with hyperparameter"
      ],
      "id": "s8C9kFsdj46c"
    },
    {
      "cell_type": "code",
      "metadata": {
        "colab": {
          "base_uri": "https://localhost:8080/"
        },
        "id": "RKnA5kU2lfOB",
        "outputId": "0f381f82-d74e-4ed1-fbf7-b3d0e5e13f5d"
      },
      "source": [
        "model.score(X_test,y_test)"
      ],
      "id": "RKnA5kU2lfOB",
      "execution_count": null,
      "outputs": [
        {
          "output_type": "execute_result",
          "data": {
            "text/plain": [
              "0.9618834080717489"
            ]
          },
          "metadata": {},
          "execution_count": 90
        }
      ]
    },
    {
      "cell_type": "code",
      "metadata": {
        "colab": {
          "base_uri": "https://localhost:8080/"
        },
        "id": "rUhymgIZghhg",
        "outputId": "6458ee79-a32a-41d3-f500-c53df56fc821"
      },
      "source": [
        "from sklearn.neighbors import KNeighborsClassifier\n",
        "\n",
        "model = KNeighborsClassifier(metric ='manhattan', n_neighbors= 15, weights= 'uniform')\n",
        "\n",
        "# Train the model using the training sets\n",
        "model.fit(X_train,y_train)\n"
      ],
      "id": "rUhymgIZghhg",
      "execution_count": null,
      "outputs": [
        {
          "output_type": "execute_result",
          "data": {
            "text/plain": [
              "KNeighborsClassifier(algorithm='auto', leaf_size=30, metric='manhattan',\n",
              "                     metric_params=None, n_jobs=None, n_neighbors=15, p=2,\n",
              "                     weights='uniform')"
            ]
          },
          "metadata": {},
          "execution_count": 87
        }
      ]
    },
    {
      "cell_type": "code",
      "metadata": {
        "colab": {
          "base_uri": "https://localhost:8080/"
        },
        "id": "kVKQSqs4hNQ-",
        "outputId": "d8d63e20-713a-45af-fb11-fb73fc32b9b2"
      },
      "source": [
        "model.score(X_test,y_test)"
      ],
      "id": "kVKQSqs4hNQ-",
      "execution_count": null,
      "outputs": [
        {
          "output_type": "execute_result",
          "data": {
            "text/plain": [
              "0.9596412556053812"
            ]
          },
          "metadata": {},
          "execution_count": 88
        }
      ]
    },
    {
      "cell_type": "markdown",
      "metadata": {
        "id": "3zpHRCFkkZVV"
      },
      "source": [
        "KNN hyperparameter grid search"
      ],
      "id": "3zpHRCFkkZVV"
    },
    {
      "cell_type": "code",
      "metadata": {
        "colab": {
          "base_uri": "https://localhost:8080/"
        },
        "id": "DeIdntQ_hPFe",
        "outputId": "29042603-0c38-45c1-e83f-3d300f6d4be3"
      },
      "source": [
        "from sklearn.model_selection import GridSearchCV\n",
        "\n",
        "param_grid = [\n",
        "\n",
        "    {'n_neighbors' : [5,7,9,11,13,15] , 'weights' : ['uniform','distance'],\n",
        "               'metric' : ['minkowski','euclidean','manhattan']}\n",
        "  ]\n",
        "\n",
        "r = KNeighborsClassifier()\n",
        "grid_search = GridSearchCV(r, param_grid, cv=5,\n",
        "                            return_train_score=True)\n",
        "grid_search.fit(X_train, y_train)"
      ],
      "id": "DeIdntQ_hPFe",
      "execution_count": null,
      "outputs": [
        {
          "output_type": "execute_result",
          "data": {
            "text/plain": [
              "GridSearchCV(cv=5, error_score=nan,\n",
              "             estimator=KNeighborsClassifier(algorithm='auto', leaf_size=30,\n",
              "                                            metric='minkowski',\n",
              "                                            metric_params=None, n_jobs=None,\n",
              "                                            n_neighbors=5, p=2,\n",
              "                                            weights='uniform'),\n",
              "             iid='deprecated', n_jobs=None,\n",
              "             param_grid=[{'metric': ['minkowski', 'euclidean', 'manhattan'],\n",
              "                          'n_neighbors': [5, 7, 9, 11, 13, 15],\n",
              "                          'weights': ['uniform', 'distance']}],\n",
              "             pre_dispatch='2*n_jobs', refit=True, return_train_score=True,\n",
              "             scoring=None, verbose=0)"
            ]
          },
          "metadata": {},
          "execution_count": 84
        }
      ]
    },
    {
      "cell_type": "code",
      "metadata": {
        "colab": {
          "base_uri": "https://localhost:8080/"
        },
        "id": "1_sfmfNIkwfY",
        "outputId": "2b2445f8-d2ab-400a-bb63-3363967d9229"
      },
      "source": [
        "grid_search.score(X_test,y_test)"
      ],
      "id": "1_sfmfNIkwfY",
      "execution_count": null,
      "outputs": [
        {
          "output_type": "execute_result",
          "data": {
            "text/plain": [
              "0.9596412556053812"
            ]
          },
          "metadata": {},
          "execution_count": 85
        }
      ]
    },
    {
      "cell_type": "code",
      "metadata": {
        "colab": {
          "base_uri": "https://localhost:8080/"
        },
        "id": "DSbEUzm6lCpt",
        "outputId": "fb9ade3e-9ef3-4d0e-f7b5-e7a819b3d4b6"
      },
      "source": [
        "grid_search.best_params_"
      ],
      "id": "DSbEUzm6lCpt",
      "execution_count": null,
      "outputs": [
        {
          "output_type": "execute_result",
          "data": {
            "text/plain": [
              "{'metric': 'manhattan', 'n_neighbors': 15, 'weights': 'uniform'}"
            ]
          },
          "metadata": {},
          "execution_count": 86
        }
      ]
    },
    {
      "cell_type": "markdown",
      "metadata": {
        "id": "BZy_LX64p5pM"
      },
      "source": [
        "Decision Tree"
      ],
      "id": "BZy_LX64p5pM"
    },
    {
      "cell_type": "code",
      "metadata": {
        "colab": {
          "base_uri": "https://localhost:8080/"
        },
        "id": "4wBXrb59puPW",
        "outputId": "13b5814d-a68a-411f-9b66-132bab7f8108"
      },
      "source": [
        "DT=DecisionTreeClassifier()\n",
        "DT.fit(X_train, y_train)\n",
        "\n",
        "# Make baseline predictions\n",
        "DT.score(X_test,y_test)\n"
      ],
      "id": "4wBXrb59puPW",
      "execution_count": 109,
      "outputs": [
        {
          "output_type": "execute_result",
          "data": {
            "text/plain": [
              "0.9461883408071748"
            ]
          },
          "metadata": {},
          "execution_count": 109
        }
      ]
    },
    {
      "cell_type": "markdown",
      "metadata": {
        "id": "qRjTHY-wnSDw"
      },
      "source": [
        "**COMAPRING MODELS**"
      ],
      "id": "qRjTHY-wnSDw"
    },
    {
      "cell_type": "code",
      "metadata": {
        "id": "2HpdO5xbn-kA"
      },
      "source": [
        "models={\"LogisticRegression\":LogisticRegression(),\n",
        "        \"KNN\":KNeighborsClassifier(),\n",
        "        \"Decision Tree\":DecisionTreeClassifier(),\n",
        "        \"SupportVectorMachine\":SVC()\n",
        "        }\n",
        "\n",
        "# Create a function to detrmine the scores and fit the models.\n",
        "def fit_and_score(models, X_train, X_test, y_train, y_test):\n",
        "    \"\"\"\n",
        "    Fits and evaluates given machine learning models\n",
        "    models : a dict of different Scikit learning machine learning models.\n",
        "    X_train : training data (no labels)\n",
        "    X_test : testing data (no labels)\n",
        "    y_train : training labels\n",
        "    y_test : test labels\n",
        "    \"\"\"\n",
        "    \n",
        "    # Setup random seed\n",
        "    np.random.seed(42)\n",
        "    # Make a dictionary to keep model scores\n",
        "    model_scores = {}\n",
        "    \n",
        "    for name,model in models.items():\n",
        "        #Fit the model into the data\n",
        "        model.fit(X_train,y_train)\n",
        "        \n",
        "        # Evaluate the model and append its scores to model_scores\n",
        "        model_scores[name] = model.score(X_test,y_test)\n",
        "    \n",
        "    # Return the model scores\n",
        "    return model_scores"
      ],
      "id": "2HpdO5xbn-kA",
      "execution_count": 112,
      "outputs": []
    },
    {
      "cell_type": "code",
      "metadata": {
        "colab": {
          "base_uri": "https://localhost:8080/"
        },
        "id": "Sfk2H3vwoQBK",
        "outputId": "4c5eba18-e989-4cdb-d456-9e1b4f58c1da"
      },
      "source": [
        "model_scores = fit_and_score(models=models,\n",
        "                             X_train = X_train,\n",
        "                             X_test = X_test,\n",
        "                             y_train = y_train,\n",
        "                             y_test = y_test)\n",
        "model_scores   "
      ],
      "id": "Sfk2H3vwoQBK",
      "execution_count": 113,
      "outputs": [
        {
          "output_type": "execute_result",
          "data": {
            "text/plain": [
              "{'Decision Tree': 0.9484304932735426,\n",
              " 'KNN': 0.9618834080717489,\n",
              " 'LogisticRegression': 0.5493273542600897,\n",
              " 'SupportVectorMachine': 0.5403587443946188}"
            ]
          },
          "metadata": {},
          "execution_count": 113
        }
      ]
    },
    {
      "cell_type": "code",
      "metadata": {
        "colab": {
          "base_uri": "https://localhost:8080/",
          "height": 370
        },
        "id": "MVY05trenV0A",
        "outputId": "456ce597-689e-4deb-cd04-df7a6d7db8f8"
      },
      "source": [
        "model_comparison = pd.DataFrame(model_scores, index=[\"accuracy\"])\n",
        "model_comparison.T.plot.bar();"
      ],
      "id": "MVY05trenV0A",
      "execution_count": 114,
      "outputs": [
        {
          "output_type": "display_data",
          "data": {
            "image/png": "[encoded data removed]",
            "text/plain": [
              "<Figure size 432x288 with 1 Axes>"
            ]
          },
          "metadata": {
            "needs_background": "light"
          }
        }
      ]
    },
    {
      "cell_type": "markdown",
      "metadata": {
        "id": "uqMtAeWtp_IT"
      },
      "source": [
        "OBSERVATION"
      ],
      "id": "uqMtAeWtp_IT"
    },
    {
      "cell_type": "code",
      "metadata": {
        "id": "RZNoXfkQp_17"
      },
      "source": [
        "Result: By viewing the Results of comparing model  KNN and decision Tree are more powerful than other  and among them KNN is powerdul\n",
        "         because it has the power to handle the scaling datasets"
      ],
      "id": "RZNoXfkQp_17",
      "execution_count": null,
      "outputs": []
    },
    {
      "cell_type": "code",
      "metadata": {
        "id": "P3kGzQdmq59N"
      },
      "source": [
        ""
      ],
      "id": "P3kGzQdmq59N",
      "execution_count": null,
      "outputs": []
    }
  ]
}